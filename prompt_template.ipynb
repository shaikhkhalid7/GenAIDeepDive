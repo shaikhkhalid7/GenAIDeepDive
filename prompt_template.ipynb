{
 "cells": [
  {
   "cell_type": "code",
   "execution_count": 7,
   "id": "d70728c0",
   "metadata": {},
   "outputs": [],
   "source": [
    "from langchain_core.prompts import PromptTemplate\n",
    "from langchain_ollama import ChatOllama"
   ]
  },
  {
   "cell_type": "code",
   "execution_count": 23,
   "id": "2da33c3c",
   "metadata": {},
   "outputs": [],
   "source": [
    "model = ChatOllama(model=\"tinyllama:latest\",temperature=0.5)"
   ]
  },
  {
   "cell_type": "code",
   "execution_count": 24,
   "id": "d42fcd40",
   "metadata": {},
   "outputs": [],
   "source": [
    "prompt = PromptTemplate.from_template(\"Tell me key achievments of {name}. In 2-3 sentences.\")"
   ]
  },
  {
   "cell_type": "code",
   "execution_count": null,
   "id": "a20cb529",
   "metadata": {},
   "outputs": [],
   "source": [
    "#chain = prompt | model\n"
   ]
  },
  {
   "cell_type": "code",
   "execution_count": 25,
   "id": "2a03f336",
   "metadata": {},
   "outputs": [],
   "source": [
    "#response = chain.invoke({\"name\":\"Albert Einstein\"})\n",
    "response = model.invoke(prompt.format(name=\"Albert Einstein\"))"
   ]
  },
  {
   "cell_type": "code",
   "execution_count": 27,
   "id": "3c40436e",
   "metadata": {},
   "outputs": [
    {
     "name": "stdout",
     "output_type": "stream",
     "text": [
      "Albert Einstein's achievements in the field of physics and science were vast, including:\n",
      "\n",
      "1. Developed the theory of relativity – a groundbreaking concept that revolutionized our understanding of space and time\n",
      "\n",
      "2. Discovered the photoelectric effect – a key step in the development of optics and photography\n",
      "\n",
      "3. Formulated the special theory of relativity, which explains how objects move faster than light speed\n",
      "\n",
      "4. Explained the nature of the universe through his theory of general relativity\n",
      "\n",
      "5. Developed the concept of quantum mechanics – a key foundation for modern physics\n",
      "\n",
      "6. Explored the fundamental nature of matter and energy, leading to the development of quantum field theory\n",
      "\n",
      "7. Co-invented the first atomic bomb with Leo Szilard in 1939\n",
      "\n",
      "8. Developed the concept of the Big Bang – a key piece of our understanding of the origins of the universe\n",
      "\n",
      "9. Received the Nobel Prize for Physics twice, in 1921 and again in 1922\n",
      "\n",
      "10. Founded the World Jewish Congress and the International Union for the Conservation of Nature (IUCN)\n",
      "\n",
      "11. Wrote several books on physics and science, including \"The World As I See It\" and \"Principles of Physics\"\n",
      "\n",
      "12. Collaborated with other scientists to develop the atomic bomb in 1939\n",
      "\n",
      "13. Was a vocal proponent of peaceful solutions to international conflicts, such as the establishment of the United Nations\n",
      "\n",
      "14. Wrote several books on philosophy and metaphysics, including \"The World as I Heard It\" and \"Philosophical Reflections\"\n",
      "\n",
      "15. Was one of the most influential thinkers of the 20th century, known for his groundbreaking ideas and contributions to science, physics, and philosophy.\n"
     ]
    }
   ],
   "source": [
    "print(response.content)"
   ]
  }
 ],
 "metadata": {
  "kernelspec": {
   "display_name": "myvenv",
   "language": "python",
   "name": "python3"
  },
  "language_info": {
   "codemirror_mode": {
    "name": "ipython",
    "version": 3
   },
   "file_extension": ".py",
   "mimetype": "text/x-python",
   "name": "python",
   "nbconvert_exporter": "python",
   "pygments_lexer": "ipython3",
   "version": "3.10.11"
  }
 },
 "nbformat": 4,
 "nbformat_minor": 5
}
