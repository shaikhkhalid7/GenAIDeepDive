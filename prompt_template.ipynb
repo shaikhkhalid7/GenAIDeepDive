{
 "cells": [
  {
   "cell_type": "code",
   "execution_count": 7,
   "id": "d70728c0",
   "metadata": {},
   "outputs": [],
   "source": [
    "from langchain_core.prompts import PromptTemplate\n",
    "from langchain_ollama import ChatOllama"
   ]
  },
  {
   "cell_type": "code",
   "execution_count": null,
   "id": "2da33c3c",
   "metadata": {},
   "outputs": [],
   "source": [
    "model = ChatOllama(model=\"tinyllama:latest\",temperature=0.5)"
   ]
  },
  {
   "cell_type": "code",
   "execution_count": 13,
   "id": "d42fcd40",
   "metadata": {},
   "outputs": [],
   "source": [
    "prompt = PromptTemplate.from_template(\"Tell me key achievments of {name}. In 2-3 sentences.\")"
   ]
  },
  {
   "cell_type": "code",
   "execution_count": null,
   "id": "a20cb529",
   "metadata": {},
   "outputs": [],
   "source": [
    "#chain = prompt | model\n"
   ]
  },
  {
   "cell_type": "code",
   "execution_count": null,
   "id": "2a03f336",
   "metadata": {},
   "outputs": [],
   "source": [
    "#response = chain.invoke({\"name\":\"Albert Einstein\"})\n",
    "response = model.invoke(prompt.format(name=\"Albert Einstein\"))"
   ]
  },
  {
   "cell_type": "code",
   "execution_count": 22,
   "id": "3c40436e",
   "metadata": {},
   "outputs": [
    {
     "name": "stdout",
     "output_type": "stream",
     "text": [
      "<think>\n",
      "Okay, so I need to figure out the key achievements of Albert Einstein in two or three sentences. Hmm, where do I start? I know he was a big name in physics and relativity, but what exactly did he do that's considered an achievement?\n",
      "\n",
      "Wait, maybe it's not just his theories like E=mc². That's definitely a big one. But can I say that? The user asked for two- or three-sentence achievements, so including both the equation and his impact on physics makes sense.\n",
      "\n",
      "I should also think about other contributions he made. Oh yeah, the Theory of Relativity was a huge part of his work. And then his work in quantum mechanics, especially with the famous equation E=hf. But wait, that's more like a formula than an achievement. Maybe I can phrase it as his development of the theory.\n",
      "\n",
      "Also, Einstein had a lasting impact on society through his philosophical ideas and his public figure. So maybe include that too. Although I'm not sure if that counts as a major achievement in physics or just in philosophy.\n",
      "\n",
      "Putting it all together, I think the key achievements would be his Theory of Relativity (E=mc²), which changed our understanding of space and time, and the development of quantum theory through E=hf. That covers both physics and how he influenced others. Yeah, that sounds right.\n",
      "</think>\n",
      "\n",
      "Albert Einstein's key achievements include the formulation of the Theory of Relativity with the equation \\( E = mc^2 \\) and his development of quantum theory through \\( E = hf \\). His work has profoundly impacted modern physics and society.\n"
     ]
    }
   ],
   "source": [
    "print(response.content)"
   ]
  }
 ],
 "metadata": {
  "kernelspec": {
   "display_name": "myvenv",
   "language": "python",
   "name": "python3"
  },
  "language_info": {
   "codemirror_mode": {
    "name": "ipython",
    "version": 3
   },
   "file_extension": ".py",
   "mimetype": "text/x-python",
   "name": "python",
   "nbconvert_exporter": "python",
   "pygments_lexer": "ipython3",
   "version": "3.10.11"
  }
 },
 "nbformat": 4,
 "nbformat_minor": 5
}
